{
 "cells": [
  {
   "cell_type": "code",
   "execution_count": 1,
   "metadata": {
    "collapsed": true
   },
   "outputs": [],
   "source": [
    "import numpy as np\n",
    "import cv2\n",
    "import matplotlib.pyplot as plt\n",
    "%matplotlib inline"
   ]
  },
  {
   "cell_type": "code",
   "execution_count": 9,
   "metadata": {
    "collapsed": true
   },
   "outputs": [],
   "source": [
    "def show(img):\n",
    "    #plt.imshow(img)\n",
    "    #plt.show()\n",
    "    cv2.imshow('Image', img)\n",
    "    cv2.waitKey(0)\n",
    "    cv2.destroyAllWindows()"
   ]
  },
  {
   "cell_type": "code",
   "execution_count": 3,
   "metadata": {
    "collapsed": true
   },
   "outputs": [],
   "source": [
    "def resizing(img, height):\n",
    "    r = height / img.shape[1]\n",
    "    dim = (height, int(img.shape[0] * r))\n",
    "    \n",
    "    img_resized = cv2.resize(img, dim, interpolation=cv2.INTER_AREA)\n",
    "    return img_resized"
   ]
  },
  {
   "cell_type": "code",
   "execution_count": 4,
   "metadata": {
    "collapsed": false
   },
   "outputs": [],
   "source": [
    "face_cascade = cv2.CascadeClassifier('trained/haarcascade_frontalface_alt.xml')\n",
    "eye_cascade = cv2.CascadeClassifier('trained/haarcascade_eye.xml')"
   ]
  },
  {
   "cell_type": "code",
   "execution_count": 27,
   "metadata": {
    "collapsed": true
   },
   "outputs": [],
   "source": [
    "def detect_faces(img, detect_eye=False, scaleFactor = 1.3):\n",
    "    img_copy = img.copy()          \n",
    "    gray = cv2.cvtColor(img_copy, cv2.COLOR_BGR2GRAY)          \n",
    "    faces = face_cascade.detectMultiScale(gray, scaleFactor=scaleFactor, minNeighbors=5)\n",
    "    for (x,y,w,h) in faces:\n",
    "        cv2.rectangle(img_copy, (x, y), (x + w,y + h), (0,255,0), 2)   \n",
    "        \n",
    "        if detect_eye:\n",
    "            # eyes detection\n",
    "            roi_gray = gray[y:y + h, x:x + w]\n",
    "            roi_color = img_copy[y:y + h, x:x + w]\n",
    "            eyes = eye_cascade.detectMultiScale(roi_gray)\n",
    "            for (ex,ey,ew,eh) in eyes:\n",
    "                cv2.rectangle(roi_color, (ex,ey), (ex+ew,ey+eh), (0,255,0), 2)\n",
    "\n",
    "    return img_copy"
   ]
  },
  {
   "cell_type": "code",
   "execution_count": 38,
   "metadata": {
    "collapsed": false
   },
   "outputs": [],
   "source": [
    "img = cv2.imread('data/test_3.jpg')\n",
    "img = resizing(img, 224)"
   ]
  },
  {
   "cell_type": "code",
   "execution_count": 44,
   "metadata": {
    "collapsed": false
   },
   "outputs": [],
   "source": [
    "face = detect_faces(img, True, 1.3)\n",
    "show(face)"
   ]
  },
  {
   "cell_type": "code",
   "execution_count": null,
   "metadata": {
    "collapsed": true
   },
   "outputs": [],
   "source": []
  }
 ],
 "metadata": {
  "kernelspec": {
   "display_name": "Python 3",
   "language": "python",
   "name": "python3"
  },
  "language_info": {
   "codemirror_mode": {
    "name": "ipython",
    "version": 3
   },
   "file_extension": ".py",
   "mimetype": "text/x-python",
   "name": "python",
   "nbconvert_exporter": "python",
   "pygments_lexer": "ipython3",
   "version": "3.6.0"
  }
 },
 "nbformat": 4,
 "nbformat_minor": 2
}
