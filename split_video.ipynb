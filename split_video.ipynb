{
 "cells": [
  {
   "cell_type": "code",
   "execution_count": 1,
   "metadata": {
    "collapsed": true
   },
   "outputs": [],
   "source": [
    "import cv2\n",
    "import numpy as np\n",
    "import os"
   ]
  },
  {
   "cell_type": "code",
   "execution_count": 6,
   "metadata": {
    "collapsed": false
   },
   "outputs": [],
   "source": [
    "cap = cv2.VideoCapture('data/baby.mp4')"
   ]
  },
  {
   "cell_type": "code",
   "execution_count": 7,
   "metadata": {
    "collapsed": true
   },
   "outputs": [],
   "source": [
    "try:\n",
    "    if not os.path.exists('data/train'):\n",
    "        os.makedirs('data/train')\n",
    "except OSError:\n",
    "    print('Error while creating directory of data/train')"
   ]
  },
  {
   "cell_type": "code",
   "execution_count": 11,
   "metadata": {
    "collapsed": false,
    "scrolled": true
   },
   "outputs": [
    {
     "name": "stdout",
     "output_type": "stream",
     "text": [
      "Capturing... ./data/train/baby_0.jpg\n",
      "Capturing... ./data/train/baby_1.jpg\n",
      "Capturing... ./data/train/baby_2.jpg\n",
      "Capturing... ./data/train/baby_3.jpg\n",
      "Capturing... ./data/train/baby_4.jpg\n",
      "Capturing... ./data/train/baby_5.jpg\n",
      "Capturing... ./data/train/baby_6.jpg\n",
      "Capturing... ./data/train/baby_7.jpg\n",
      "Capturing... ./data/train/baby_8.jpg\n",
      "Capturing... ./data/train/baby_9.jpg\n",
      "Capturing... ./data/train/baby_10.jpg\n",
      "Capturing... ./data/train/baby_11.jpg\n",
      "Capturing... ./data/train/baby_12.jpg\n",
      "Capturing... ./data/train/baby_13.jpg\n",
      "Capturing... ./data/train/baby_14.jpg\n",
      "Capturing... ./data/train/baby_15.jpg\n",
      "Capturing... ./data/train/baby_16.jpg\n",
      "Capturing... ./data/train/baby_17.jpg\n",
      "Capturing... ./data/train/baby_18.jpg\n",
      "Capturing... ./data/train/baby_19.jpg\n",
      "Capturing... ./data/train/baby_20.jpg\n",
      "Capturing... ./data/train/baby_21.jpg\n",
      "Capturing... ./data/train/baby_22.jpg\n",
      "Capturing... ./data/train/baby_23.jpg\n",
      "Capturing... ./data/train/baby_24.jpg\n",
      "Capturing... ./data/train/baby_25.jpg\n",
      "Capturing... ./data/train/baby_26.jpg\n",
      "Capturing... ./data/train/baby_27.jpg\n",
      "Capturing... ./data/train/baby_28.jpg\n",
      "Capturing... ./data/train/baby_29.jpg\n",
      "Capturing... ./data/train/baby_30.jpg\n",
      "Capturing... ./data/train/baby_31.jpg\n",
      "Capturing... ./data/train/baby_32.jpg\n",
      "Capturing... ./data/train/baby_33.jpg\n",
      "Capturing... ./data/train/baby_34.jpg\n",
      "Capturing... ./data/train/baby_35.jpg\n",
      "Capturing... ./data/train/baby_36.jpg\n",
      "Capturing... ./data/train/baby_37.jpg\n",
      "Capturing... ./data/train/baby_38.jpg\n",
      "Capturing... ./data/train/baby_39.jpg\n",
      "Capturing... ./data/train/baby_40.jpg\n",
      "Capturing... ./data/train/baby_41.jpg\n",
      "Capturing... ./data/train/baby_42.jpg\n",
      "Capturing... ./data/train/baby_43.jpg\n",
      "Capturing... ./data/train/baby_44.jpg\n",
      "Capturing... ./data/train/baby_45.jpg\n",
      "Capturing... ./data/train/baby_46.jpg\n",
      "Capturing... ./data/train/baby_47.jpg\n",
      "Capturing... ./data/train/baby_48.jpg\n",
      "Capturing... ./data/train/baby_49.jpg\n",
      "Capturing... ./data/train/baby_50.jpg\n",
      "Capturing... ./data/train/baby_51.jpg\n",
      "Capturing... ./data/train/baby_52.jpg\n",
      "Capturing... ./data/train/baby_53.jpg\n",
      "Capturing... ./data/train/baby_54.jpg\n",
      "Capturing... ./data/train/baby_55.jpg\n",
      "Capturing... ./data/train/baby_56.jpg\n",
      "Capturing... ./data/train/baby_57.jpg\n",
      "Capturing... ./data/train/baby_58.jpg\n",
      "Capturing... ./data/train/baby_59.jpg\n",
      "Capturing... ./data/train/baby_60.jpg\n",
      "Capturing... ./data/train/baby_61.jpg\n",
      "Capturing... ./data/train/baby_62.jpg\n"
     ]
    }
   ],
   "source": [
    "frame = 0\n",
    "re = True\n",
    "while re:\n",
    "    cap.set(cv2.CAP_PROP_POS_MSEC,(frame*5000))\n",
    "    \n",
    "    # capture frame\n",
    "    re, fr = cap.read()\n",
    "    \n",
    "    # save image in png\n",
    "    name = './data/train/baby_' + str(frame) + '.jpg'\n",
    "    print('Capturing...', name)\n",
    "    cv2.imwrite(name, fr)\n",
    "    \n",
    "    frame += 1"
   ]
  },
  {
   "cell_type": "code",
   "execution_count": 12,
   "metadata": {
    "collapsed": true
   },
   "outputs": [],
   "source": [
    "cap.release()"
   ]
  },
  {
   "cell_type": "code",
   "execution_count": null,
   "metadata": {
    "collapsed": true
   },
   "outputs": [],
   "source": []
  }
 ],
 "metadata": {
  "kernelspec": {
   "display_name": "Python 3",
   "language": "python",
   "name": "python3"
  },
  "language_info": {
   "codemirror_mode": {
    "name": "ipython",
    "version": 3
   },
   "file_extension": ".py",
   "mimetype": "text/x-python",
   "name": "python",
   "nbconvert_exporter": "python",
   "pygments_lexer": "ipython3",
   "version": "3.6.0"
  }
 },
 "nbformat": 4,
 "nbformat_minor": 2
}
