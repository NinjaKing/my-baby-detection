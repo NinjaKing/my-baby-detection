{
 "cells": [
  {
   "cell_type": "code",
   "execution_count": null,
   "metadata": {},
   "outputs": [],
   "source": [
    "from PIL import Image\n",
    "import os, sys"
   ]
  },
  {
   "cell_type": "code",
   "execution_count": null,
   "metadata": {},
   "outputs": [],
   "source": [
    "def create_training_data(data_path, des_path, min_nb=10, des_size=(224,224)):\n",
    "    for cl_folder in os.listdir(data_path):\n",
    "        # create class folder at destination dir\n",
    "        if not os.path.isexist(des_path + cl_folder):\n",
    "            os.makedirs(des_path + cl_folder)\n",
    "        \n",
    "        images = os.listdir(data_path + cl_folder)\n",
    "        print('Found', len(images),'on class',cl_folder)\n",
    "\n",
    "        des_images = os.listdir(des_path + cl_folder)\n",
    "        des_count = len(des_images)\n",
    "        \n",
    "        nb_copy = max(len(images)//min_nb, 1)\n",
    "        print(des_path + cl_folder, 'already have', des_count)\n",
    "        print('Copy number each image', nb_copy)\n",
    "        for img in images[:min_nb]:\n",
    "            if des_count >= min_nb:\n",
    "                break\n",
    "                \n",
    "            im_file = data_path + cl_folder + '/' + img\n",
    "            try :\n",
    "                im = Image.open(im_file)\n",
    "                im.thumbnail(des_size, Image.ANTIALIAS)\n",
    "                for i in len(nb_copy):\n",
    "                    im.save(des_path + cl_folder + '/' + str(i) + '_' + img,\"JPEG\")\n",
    "\n",
    "                des_count += nb_copy\n",
    "            except IOError:\n",
    "                print(\"Cannot read image for \", im_file)\n",
    "                \n",
    "        print('\\tFinal number images:', des_count)"
   ]
  },
  {
   "cell_type": "code",
   "execution_count": null,
   "metadata": {},
   "outputs": [],
   "source": [
    "create_training_data('data/train/', 'data/small/')"
   ]
  }
 ],
 "metadata": {
  "kernelspec": {
   "display_name": "Python 3",
   "language": "python",
   "name": "python3"
  },
  "language_info": {
   "codemirror_mode": {
    "name": "ipython",
    "version": 3
   },
   "file_extension": ".py",
   "mimetype": "text/x-python",
   "name": "python",
   "nbconvert_exporter": "python",
   "pygments_lexer": "ipython3",
   "version": "3.6.4"
  }
 },
 "nbformat": 4,
 "nbformat_minor": 2
}
